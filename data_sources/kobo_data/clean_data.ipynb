{
 "cells": [
  {
   "cell_type": "code",
   "execution_count": 2,
   "metadata": {},
   "outputs": [],
   "source": [
    "import pandas as pd\n",
    "\n",
    "# Load the Excel file (replace with your file path)\n",
    "file_path = \"FAIR_Forward_Monitoring_Questionnaire_-_all_versions_-_labels_-_2024-11-29-11-59-49.xlsx\"\n",
    "# Read the sheet (assuming data is on the first sheet; you can specify sheet name if needed)\n",
    "df = pd.read_excel(file_path)"
   ]
  },
  {
   "cell_type": "code",
   "execution_count": 47,
   "metadata": {},
   "outputs": [],
   "source": [
    "# Filter rows where 'Area of Action (FF1)' or 'Area of Action (FF2)' contains the word \"access\" (case-insensitive)\n",
    "df_filtered = df[\n",
    "    df['Area of action (FF1)'].str.contains('access', case=False, na=False) |\n",
    "    df['Area of action (FF2)'].str.contains('access', case=False, na=False)\n",
    "]\n",
    "\n",
    "link_columns = df.columns  # Adjust this to specific columns if needed\n",
    "df_filtered = df_filtered[df_filtered[link_columns].apply(lambda row: row.str.contains('http', na=False, case=False).any(), axis=1)]"
   ]
  },
  {
   "cell_type": "code",
   "execution_count": 48,
   "metadata": {},
   "outputs": [],
   "source": [
    "df_filtered = df_filtered[[\"Project Title\", \"Country where the activity takes place\", \"Please provide a link to the datasets\"]]"
   ]
  },
  {
   "cell_type": "code",
   "execution_count": 49,
   "metadata": {},
   "outputs": [],
   "source": [
    "df_final = df_filtered[df_filtered['Please provide a link to the datasets'].notna()]"
   ]
  },
  {
   "cell_type": "code",
   "execution_count": 50,
   "metadata": {},
   "outputs": [],
   "source": [
    "# Save the filtered DataFrame to a new Excel file\n",
    "df_final.to_excel('filtered_data.xlsx', index=False)"
   ]
  }
 ],
 "metadata": {
  "kernelspec": {
   "display_name": "base",
   "language": "python",
   "name": "python3"
  },
  "language_info": {
   "codemirror_mode": {
    "name": "ipython",
    "version": 3
   },
   "file_extension": ".py",
   "mimetype": "text/x-python",
   "name": "python",
   "nbconvert_exporter": "python",
   "pygments_lexer": "ipython3",
   "version": "3.11.8"
  }
 },
 "nbformat": 4,
 "nbformat_minor": 2
}
